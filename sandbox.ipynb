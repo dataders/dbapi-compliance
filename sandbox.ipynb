{
 "cells": [
  {
   "cell_type": "code",
   "execution_count": 1,
   "metadata": {},
   "outputs": [],
   "source": [
    "import psycopg2\n"
   ]
  },
  {
   "cell_type": "code",
   "execution_count": 2,
   "metadata": {},
   "outputs": [],
   "source": [
    "connect_kw_args = {\n",
    "    'host': 'localhost',\n",
    "    'user': 'root',\n",
    "    'dbname': 'dbt',\n",
    "    'password': 'password'\n",
    "    }"
   ]
  },
  {
   "cell_type": "code",
   "execution_count": 3,
   "metadata": {},
   "outputs": [],
   "source": [
    "# Connect to your postgres DB\n",
    "conn = psycopg2.connect(**connect_kw_args)"
   ]
  },
  {
   "cell_type": "code",
   "execution_count": 4,
   "metadata": {},
   "outputs": [],
   "source": [
    "cur = conn.cursor()"
   ]
  },
  {
   "cell_type": "code",
   "execution_count": 6,
   "metadata": {},
   "outputs": [],
   "source": [
    "cur.execute('SELECT 1 as id')"
   ]
  },
  {
   "cell_type": "code",
   "execution_count": 7,
   "metadata": {},
   "outputs": [
    {
     "data": {
      "text/plain": [
       "[(1,)]"
      ]
     },
     "execution_count": 7,
     "metadata": {},
     "output_type": "execute_result"
    }
   ],
   "source": [
    "cur.fetchall()"
   ]
  },
  {
   "cell_type": "code",
   "execution_count": null,
   "metadata": {},
   "outputs": [],
   "source": []
  },
  {
   "cell_type": "markdown",
   "metadata": {},
   "source": [
    "use test suite\n"
   ]
  },
  {
   "cell_type": "code",
   "execution_count": 8,
   "metadata": {},
   "outputs": [],
   "source": [
    "import dbapi20\n",
    "import unittest\n",
    "import psycopg2  # Bug #877952\n",
    "import subprocess\n",
    "import pg8000.dbapi"
   ]
  },
  {
   "cell_type": "code",
   "execution_count": 13,
   "metadata": {},
   "outputs": [],
   "source": [
    "class test_Psycopg(dbapi20.DatabaseAPI20Test):\n",
    "    driver = psycopg2\n",
    "    connect_kw_args = {\n",
    "        'host': 'localhost',\n",
    "        'user': 'root',\n",
    "        'dbname': 'dbt',\n",
    "        'password': 'password'\n",
    "        }\n",
    "\n",
    "    lower_func = 'lower' # For stored procedure test\n",
    "\n",
    "    def setUp(self):\n",
    "        # Call superclass setUp In case this does something in the\n",
    "        # future\n",
    "        dbapi20.DatabaseAPI20Test.setUp(self) \n",
    "\n",
    "        try:\n",
    "            con = self._connect()\n",
    "            con.close()\n",
    "        except:\n",
    "            cmd = [ \"psql\", \"-c\", \"create database dbapi20_test\" ]\n",
    "            if subprocess.call(cmd):\n",
    "                self.fail(\"Failed to create databse.\")\n",
    "\n",
    "    def tearDown(self):\n",
    "        dbapi20.DatabaseAPI20Test.tearDown(self)\n",
    "\n",
    "    def test_non_idempotent_close(self): pass\n",
    "    def test_nextset(self): pass\n",
    "    def test_setoutputsize(self): pass"
   ]
  },
  {
   "cell_type": "code",
   "execution_count": 16,
   "metadata": {},
   "outputs": [],
   "source": [
    "class test_Pg8000(test_Psycopg):\n",
    "    # driver = psycopg2\n",
    "    driver = pg8000.dbapi\n",
    "    connect_kw_args = {\n",
    "        'host': 'localhost',\n",
    "        'user': 'root',\n",
    "        'database': 'dbt',\n",
    "        'password': 'password'\n",
    "        }\n",
    "\n",
    "    lower_func = 'lower' # For stored procedure test\n",
    "\n",
    "    # def setUp(self):\n",
    "    #     # Call superclass setUp In case this does something in the\n",
    "    #     # future\n",
    "    #     dbapi20.DatabaseAPI20Test.setUp(self) \n",
    "\n",
    "    #     try:\n",
    "    #         con = self._connect()\n",
    "    #         con.close()\n",
    "    #     except:\n",
    "    #         cmd = [ \"psql\", \"-c\", \"create database dbapi20_test\" ]\n",
    "    #         if subprocess.call(cmd):\n",
    "    #             self.fail(\"Failed to create databse.\")\n",
    "\n",
    "    # def tearDown(self):\n",
    "    #     dbapi20.DatabaseAPI20Test.tearDown(self)\n",
    "\n",
    "    def test_non_idempotent_close(self): pass\n",
    "    def test_nextset(self): pass\n",
    "    def test_setoutputsize(self): pass"
   ]
  },
  {
   "cell_type": "code",
   "execution_count": 18,
   "metadata": {},
   "outputs": [
    {
     "name": "stderr",
     "output_type": "stream",
     "text": [
      "..F../Users/dataders/repos/dbapi-compliance/dbapi20.py:191: UserWarning: DB-API extension connection.Warning used\n",
      "  _failUnless(self,con.Warning is drv.Warning)\n",
      "/Users/dataders/repos/dbapi-compliance/dbapi20.py:192: UserWarning: DB-API extension connection.Error used\n",
      "  _failUnless(self,con.Error is drv.Error)\n",
      "/Users/dataders/repos/dbapi-compliance/dbapi20.py:193: UserWarning: DB-API extension connection.InterfaceError used\n",
      "  _failUnless(self,con.InterfaceError is drv.InterfaceError)\n",
      "/Users/dataders/repos/dbapi-compliance/dbapi20.py:194: UserWarning: DB-API extension connection.DatabaseError used\n",
      "  _failUnless(self,con.DatabaseError is drv.DatabaseError)\n",
      "/Users/dataders/repos/dbapi-compliance/dbapi20.py:195: UserWarning: DB-API extension connection.OperationalError used\n",
      "  _failUnless(self,con.OperationalError is drv.OperationalError)\n",
      "/Users/dataders/repos/dbapi-compliance/dbapi20.py:196: UserWarning: DB-API extension connection.IntegrityError used\n",
      "  _failUnless(self,con.IntegrityError is drv.IntegrityError)\n",
      "/Users/dataders/repos/dbapi-compliance/dbapi20.py:197: UserWarning: DB-API extension connection.InternalError used\n",
      "  _failUnless(self,con.InternalError is drv.InternalError)\n",
      "/Users/dataders/repos/dbapi-compliance/dbapi20.py:198: UserWarning: DB-API extension connection.ProgrammingError used\n",
      "  _failUnless(self,con.ProgrammingError is drv.ProgrammingError)\n",
      "/Users/dataders/repos/dbapi-compliance/dbapi20.py:199: UserWarning: DB-API extension connection.NotSupportedError used\n",
      "  _failUnless(self,con.NotSupportedError is drv.NotSupportedError)\n",
      ".F.......E......E..........E.E.....................................\n",
      "======================================================================\n",
      "ERROR: test_callproc (__main__.test_Pg8000.test_callproc)\n",
      "----------------------------------------------------------------------\n",
      "Traceback (most recent call last):\n",
      "  File \"/Users/dataders/repos/dbapi-compliance/dbapi20.py\", line 319, in test_callproc\n",
      "    r = cur.callproc(self.lower_func,('FOO',))\n",
      "        ^^^^^^^^^^^^^^^^^^^^^^^^^^^^^^^^^^^^^^\n",
      "  File \"/Users/dataders/miniforge3/envs/dev/lib/python3.11/site-packages/pg8000/dbapi.py\", line 518, in callproc\n",
      "    self._context = self._c.execute_unnamed(statement, vals=vals)\n",
      "                    ^^^^^^^^^^^^^^^^^^^^^^^^^^^^^^^^^^^^^^^^^^^^^\n",
      "  File \"/Users/dataders/miniforge3/envs/dev/lib/python3.11/site-packages/pg8000/core.py\", line 688, in execute_unnamed\n",
      "    self.handle_messages(context)\n",
      "  File \"/Users/dataders/miniforge3/envs/dev/lib/python3.11/site-packages/pg8000/core.py\", line 827, in handle_messages\n",
      "    raise context.error\n",
      "pg8000.exceptions.DatabaseError: {'S': 'ERROR', 'V': 'ERROR', 'C': '42809', 'M': 'lower(unknown) is not a procedure', 'H': 'To call a function, use SELECT.', 'P': '6', 'F': 'parse_func.c', 'L': '285', 'R': 'ParseFuncOrColumn'}\n",
      "\n",
      "======================================================================\n",
      "ERROR: test_execute (__main__.test_Pg8000.test_execute)\n",
      "----------------------------------------------------------------------\n",
      "Traceback (most recent call last):\n",
      "  File \"/Users/dataders/repos/dbapi-compliance/dbapi20.py\", line 359, in test_execute\n",
      "    self._paraminsert(cur)\n",
      "  File \"/Users/dataders/repos/dbapi-compliance/dbapi20.py\", line 386, in _paraminsert\n",
      "    cur.execute(\n",
      "  File \"/Users/dataders/miniforge3/envs/dev/lib/python3.11/site-packages/pg8000/dbapi.py\", line 464, in execute\n",
      "    self._context = self._c.execute_unnamed(\n",
      "                    ^^^^^^^^^^^^^^^^^^^^^^^^\n",
      "  File \"/Users/dataders/miniforge3/envs/dev/lib/python3.11/site-packages/pg8000/core.py\", line 707, in execute_unnamed\n",
      "    self.handle_messages(context)\n",
      "  File \"/Users/dataders/miniforge3/envs/dev/lib/python3.11/site-packages/pg8000/core.py\", line 827, in handle_messages\n",
      "    raise context.error\n",
      "pg8000.exceptions.DatabaseError: {'S': 'ERROR', 'V': 'ERROR', 'C': '22001', 'M': 'value too long for type character varying(30)', 'F': 'varchar.c', 'L': '632', 'R': 'varchar'}\n",
      "\n",
      "======================================================================\n",
      "ERROR: test_setinputsizes (__main__.test_Pg8000.test_setinputsizes)\n",
      "----------------------------------------------------------------------\n",
      "Traceback (most recent call last):\n",
      "  File \"/Users/dataders/repos/dbapi-compliance/dbapi20.py\", line 767, in test_setinputsizes\n",
      "    self._paraminsert(cur) # Make sure cursor still works\n",
      "    ^^^^^^^^^^^^^^^^^^^^^^\n",
      "  File \"/Users/dataders/repos/dbapi-compliance/dbapi20.py\", line 386, in _paraminsert\n",
      "    cur.execute(\n",
      "  File \"/Users/dataders/miniforge3/envs/dev/lib/python3.11/site-packages/pg8000/dbapi.py\", line 464, in execute\n",
      "    self._context = self._c.execute_unnamed(\n",
      "                    ^^^^^^^^^^^^^^^^^^^^^^^^\n",
      "  File \"/Users/dataders/miniforge3/envs/dev/lib/python3.11/site-packages/pg8000/core.py\", line 707, in execute_unnamed\n",
      "    self.handle_messages(context)\n",
      "  File \"/Users/dataders/miniforge3/envs/dev/lib/python3.11/site-packages/pg8000/core.py\", line 827, in handle_messages\n",
      "    raise context.error\n",
      "pg8000.exceptions.DatabaseError: {'S': 'ERROR', 'V': 'ERROR', 'C': '22001', 'M': 'value too long for type character varying(30)', 'F': 'varchar.c', 'L': '632', 'R': 'varchar'}\n",
      "\n",
      "======================================================================\n",
      "ERROR: test_setoutputsize_basic (__main__.test_Pg8000.test_setoutputsize_basic)\n",
      "----------------------------------------------------------------------\n",
      "Traceback (most recent call last):\n",
      "  File \"/Users/dataders/repos/dbapi-compliance/dbapi20.py\", line 778, in test_setoutputsize_basic\n",
      "    self._paraminsert(cur) # Make sure the cursor still works\n",
      "    ^^^^^^^^^^^^^^^^^^^^^^\n",
      "  File \"/Users/dataders/repos/dbapi-compliance/dbapi20.py\", line 386, in _paraminsert\n",
      "    cur.execute(\n",
      "  File \"/Users/dataders/miniforge3/envs/dev/lib/python3.11/site-packages/pg8000/dbapi.py\", line 464, in execute\n",
      "    self._context = self._c.execute_unnamed(\n",
      "                    ^^^^^^^^^^^^^^^^^^^^^^^^\n",
      "  File \"/Users/dataders/miniforge3/envs/dev/lib/python3.11/site-packages/pg8000/core.py\", line 707, in execute_unnamed\n",
      "    self.handle_messages(context)\n",
      "  File \"/Users/dataders/miniforge3/envs/dev/lib/python3.11/site-packages/pg8000/core.py\", line 827, in handle_messages\n",
      "    raise context.error\n",
      "pg8000.exceptions.DatabaseError: {'S': 'ERROR', 'V': 'ERROR', 'C': '22001', 'M': 'value too long for type character varying(30)', 'F': 'varchar.c', 'L': '632', 'R': 'varchar'}\n",
      "\n",
      "======================================================================\n",
      "FAIL: test_DATETIME (__main__.test_Pg8000.test_DATETIME)\n",
      "----------------------------------------------------------------------\n",
      "Traceback (most recent call last):\n",
      "  File \"/Users/dataders/repos/dbapi-compliance/dbapi20.py\", line 843, in test_DATETIME\n",
      "    _failUnless(self, hasattr(self.driver,'DATETIME'),\n",
      "  File \"/Users/dataders/repos/dbapi-compliance/dbapi20.py\", line 23, in _failUnless\n",
      "    self.assertTrue(expr, msg)\n",
      "AssertionError: False is not true : module.DATETIME must be defined.\n",
      "\n",
      "======================================================================\n",
      "FAIL: test_NUMBER (__main__.test_Pg8000.test_NUMBER)\n",
      "----------------------------------------------------------------------\n",
      "Traceback (most recent call last):\n",
      "  File \"/Users/dataders/repos/dbapi-compliance/dbapi20.py\", line 838, in test_NUMBER\n",
      "    _failUnless(self, hasattr(self.driver,'NUMBER'),\n",
      "  File \"/Users/dataders/repos/dbapi-compliance/dbapi20.py\", line 23, in _failUnless\n",
      "    self.assertTrue(expr, msg)\n",
      "AssertionError: False is not true : module.NUMBER must be defined.\n",
      "\n",
      "----------------------------------------------------------------------\n",
      "Ran 72 tests in 3.040s\n",
      "\n",
      "FAILED (failures=2, errors=4)\n"
     ]
    },
    {
     "data": {
      "text/plain": [
       "<unittest.main.TestProgram at 0x1188cf490>"
      ]
     },
     "execution_count": 18,
     "metadata": {},
     "output_type": "execute_result"
    }
   ],
   "source": [
    "# unittest.main()\n",
    "unittest.main(argv=[''], verbosity=1, exit=False)\n"
   ]
  },
  {
   "cell_type": "code",
   "execution_count": null,
   "metadata": {},
   "outputs": [],
   "source": []
  }
 ],
 "metadata": {
  "kernelspec": {
   "display_name": "Python (dev)",
   "language": "python",
   "name": "dev"
  },
  "language_info": {
   "codemirror_mode": {
    "name": "ipython",
    "version": 3
   },
   "file_extension": ".py",
   "mimetype": "text/x-python",
   "name": "python",
   "nbconvert_exporter": "python",
   "pygments_lexer": "ipython3",
   "version": "3.11.3"
  },
  "orig_nbformat": 4
 },
 "nbformat": 4,
 "nbformat_minor": 2
}
